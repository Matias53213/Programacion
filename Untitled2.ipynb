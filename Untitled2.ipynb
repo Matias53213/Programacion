{
  "nbformat": 4,
  "nbformat_minor": 0,
  "metadata": {
    "colab": {
      "provenance": [],
      "authorship_tag": "ABX9TyMkNbE/3h2aQIkKXROETn30",
      "include_colab_link": true
    },
    "kernelspec": {
      "name": "python3",
      "display_name": "Python 3"
    },
    "language_info": {
      "name": "python"
    }
  },
  "cells": [
    {
      "cell_type": "markdown",
      "metadata": {
        "id": "view-in-github",
        "colab_type": "text"
      },
      "source": [
        "<a href=\"https://colab.research.google.com/github/Matias53213/Programacion/blob/main/Untitled2.ipynb\" target=\"_parent\"><img src=\"https://colab.research.google.com/assets/colab-badge.svg\" alt=\"Open In Colab\"/></a>"
      ]
    },
    {
      "cell_type": "code",
      "execution_count": null,
      "metadata": {
        "id": "rs379DutB65G"
      },
      "outputs": [],
      "source": [
        "Definir que es una funcion\n",
        "Una funcion es una parte del codigo encargada de cumplir algun objetivo especifico definido por nostoros o por el lenguaje\n",
        "Ejercicio Nº1 Dada la sig. Funcion indicar la respuesta correcta\n",
        "Seleccionar repuesta correcta\n",
        "a=Obtenemos 5 en pantalla\n",
        "b=obtenemos un error\n",
        "c=obtenemos 12 En pantalla CORRECTA\n",
        "d=Ninguna es correcta\n"
      ]
    },
    {
      "cell_type": "code",
      "source": [
        "def suma5y7():\n",
        "  print (f\"el resultado es {5+7}\")\n",
        "\n",
        "\n",
        "\n"
      ],
      "metadata": {
        "id": "9fSYPk1dC1l2"
      },
      "execution_count": 15,
      "outputs": []
    },
    {
      "cell_type": "code",
      "source": [
        "suma5y7()"
      ],
      "metadata": {
        "colab": {
          "base_uri": "https://localhost:8080/"
        },
        "id": "LqtaTMK-FiH2",
        "outputId": "419e792a-b402-48f4-b38d-2d8319f4422d"
      },
      "execution_count": 16,
      "outputs": [
        {
          "output_type": "stream",
          "name": "stdout",
          "text": [
            "el resultado es 12\n"
          ]
        }
      ]
    },
    {
      "cell_type": "markdown",
      "source": [
        "Ejercicio Nº2\n",
        "1)indicar cual es el parametro de la funcion y la variable dentro del contexto de la funcion si son o no accesibles \n",
        "2)indicar cual es la variable global la variable local y el parametro \n",
        "3)indicar que valor toma el parametro \n",
        "Rta \n",
        "1) El Parametro es \"Parametro\" y la variable no es accesible\n",
        "2)La variable Global es=13\n",
        "La variable local es =13\n",
        "EL parametro es = \"Programacion\"\n",
        "3)\n",
        "El valor que toma es= \"programacion\""
      ],
      "metadata": {
        "id": "dt1PZp0lHG84"
      }
    },
    {
      "cell_type": "markdown",
      "source": [],
      "metadata": {
        "id": "pcLAk15gSkTQ"
      }
    },
    {
      "cell_type": "code",
      "source": [
        "Mivariable= 13\n",
        "def funcion(parametro):\n",
        "  variable= 13\n",
        "  print(f\"La variable Global que hemos definido antes valia {Mivariable}\")\n",
        "  print(f\"El valor de la variable local es {variable}\")\n",
        "  print(f\"El parametro con el que llamamos a la funcion vale {parametro}\")\n",
        "funcion(\"programacion\")"
      ],
      "metadata": {
        "colab": {
          "base_uri": "https://localhost:8080/"
        },
        "id": "sGseAztDLbe0",
        "outputId": "c39a0dd9-f862-4f69-fc38-7858db75213c"
      },
      "execution_count": 27,
      "outputs": [
        {
          "output_type": "stream",
          "name": "stdout",
          "text": [
            "La variable Global que hemos definido antes valia 1\n",
            "El valor de la variable local es 23\n",
            "El parametro con el que llamamos a la funcion vale programacion\n"
          ]
        }
      ]
    },
    {
      "cell_type": "code",
      "source": [
        "print(f\"La variable Global que hemos definido antes valia {Mivariable}\")"
      ],
      "metadata": {
        "id": "OwmW3piLVOO0",
        "outputId": "5caaba0c-b3ab-4d47-9cd6-98a4cbf5b954",
        "colab": {
          "base_uri": "https://localhost:8080/"
        }
      },
      "execution_count": 28,
      "outputs": [
        {
          "output_type": "stream",
          "name": "stdout",
          "text": [
            "La variable Global que hemos definido antes valia 1\n"
          ]
        }
      ]
    }
  ]
}